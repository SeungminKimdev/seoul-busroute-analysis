{
 "cells": [
  {
   "cell_type": "markdown",
   "metadata": {},
   "source": [
    "deep learning model training"
   ]
  },
  {
   "cell_type": "markdown",
   "metadata": {},
   "source": []
  }
 ],
 "metadata": {
  "language_info": {
   "name": "python"
  }
 },
 "nbformat": 4,
 "nbformat_minor": 2
}
