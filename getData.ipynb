{
 "cells": [
  {
   "cell_type": "markdown",
   "metadata": {},
   "source": [
    "## 지하철 역별 시간별 하차 인원수 예측\n",
    "#### 필요 데이터(중요도 순)\n",
    ">##### 1. 과거 시간대별 역별 일별 승하차 데이터\n",
    ">##### 2. 날짜 및 시간 정보(요일, 공휴일, 계절 등), 날씨\n",
    ">##### 3. 특별 행사 여부, 인구 통계 및 인프라(업무지구, 학교 등)"
   ]
  },
  {
   "cell_type": "code",
   "execution_count": 1,
   "metadata": {},
   "outputs": [],
   "source": [
    "#서울 지하철 호선별 역별 승하차 정보\n",
    "#https://data.seoul.go.kr/dataList/OA-12914/S/1/datasetView.do\n",
    "#서울 지하철 현재 위치 정보\n",
    "#https://data.seoul.go.kr/dataList/OA-12601/A/1/datasetView.do"
   ]
  },
  {
   "cell_type": "markdown",
   "metadata": {},
   "source": [
    "### IMPORT"
   ]
  },
  {
   "cell_type": "code",
   "execution_count": 2,
   "metadata": {},
   "outputs": [],
   "source": [
    "%matplotlib inline\n",
    "import apikey\n",
    "import requests\n",
    "import numpy as np\n",
    "import pandas as pd\n",
    "from geopy.geocoders import Nominatim\n",
    "from datetime import datetime\n",
    "import xmltodict\n",
    "import matplotlib as plt\n",
    "import seaborn as sns"
   ]
  },
  {
   "cell_type": "markdown",
   "metadata": {},
   "source": [
    "### 데이터 ETL"
   ]
  },
  {
   "cell_type": "markdown",
   "metadata": {},
   "source": [
    "#### 1. 과거 지하철 데이터 관련"
   ]
  },
  {
   "cell_type": "code",
   "execution_count": 3,
   "metadata": {},
   "outputs": [],
   "source": [
    "def timeCos(x): # 시간대 코사인 변환(24시와 5시의 시간적 차이를 줄이기 위해서)\n",
    "    return np.cos(int(x) * np.pi / 12.0)\n",
    "\n",
    "def checkWeekend(x): # 주말여부 확인 밑 요일 리턴\n",
    "    year, mon, day = x.split('-')\n",
    "    date = datetime(int(year),int(mon),int(day))\n",
    "    day_week = date.weekday()\n",
    "    if day_week >= 5:\n",
    "        return 1, day_week\n",
    "    else:\n",
    "        return 0, day_week"
   ]
  },
  {
   "cell_type": "code",
   "execution_count": 4,
   "metadata": {},
   "outputs": [
    {
     "data": {
      "text/plain": [
       "\"\\ndef dust(year,month):\\n    df = pd.read_excel('subway/미세먼지/' + str(year) + '/' + str(month) + '월.xlsx',skiprows=4)\\n    df = df.drop(['Unnamed: 1'],axis=1)\\n    df = df.rename(columns=lambda x:(str(year) + '-' + str(month).zfill(2) + '-' + x[:-1].zfill(2)))\\n    df = df.rename(columns={df.columns[0]:'위치'})\\n    df = df.T\\n    df = df.rename(columns=df.iloc[0])\\n    df = df.drop(df.index[0])\\n    return df\\n\""
      ]
     },
     "execution_count": 4,
     "metadata": {},
     "output_type": "execute_result"
    }
   ],
   "source": [
    "# 미세먼지 농도 연도별 병합 함수\n",
    "'''\n",
    "def dust(year,month):\n",
    "    df = pd.read_excel('subway/미세먼지/' + str(year) + '/' + str(month) + '월.xlsx',skiprows=4)\n",
    "    df = df.drop(['Unnamed: 1'],axis=1)\n",
    "    df = df.rename(columns=lambda x:(str(year) + '-' + str(month).zfill(2) + '-' + x[:-1].zfill(2)))\n",
    "    df = df.rename(columns={df.columns[0]:'위치'})\n",
    "    df = df.T\n",
    "    df = df.rename(columns=df.iloc[0])\n",
    "    df = df.drop(df.index[0])\n",
    "    return df\n",
    "'''\n",
    "#df_dust = dust(2023,1)"
   ]
  },
  {
   "cell_type": "code",
   "execution_count": 5,
   "metadata": {},
   "outputs": [],
   "source": [
    "# 미세먼지 불러오기 및 결측값 처리\n",
    "def dustDf(year):\n",
    "    df_dust = pd.read_csv('subway/미세먼지/' + str(year) + '/미세먼지_' + str(year) + '.csv',encoding='utf-8')\n",
    "    df_dust.set_index(df_dust.columns[0],inplace=True)\n",
    "    df_dust.index.name = None\n",
    "    # 결측값 처리\n",
    "    df_dust = df_dust.ffill()\n",
    "    return df_dust"
   ]
  },
  {
   "cell_type": "code",
   "execution_count": 6,
   "metadata": {},
   "outputs": [
    {
     "data": {
      "text/html": [
       "<div>\n",
       "<style scoped>\n",
       "    .dataframe tbody tr th:only-of-type {\n",
       "        vertical-align: middle;\n",
       "    }\n",
       "\n",
       "    .dataframe tbody tr th {\n",
       "        vertical-align: top;\n",
       "    }\n",
       "\n",
       "    .dataframe thead th {\n",
       "        text-align: right;\n",
       "    }\n",
       "</style>\n",
       "<table border=\"1\" class=\"dataframe\">\n",
       "  <thead>\n",
       "    <tr style=\"text-align: right;\">\n",
       "      <th></th>\n",
       "      <th>역명</th>\n",
       "      <th>지역</th>\n",
       "    </tr>\n",
       "  </thead>\n",
       "  <tbody>\n",
       "    <tr>\n",
       "      <th>0</th>\n",
       "      <td>서울역</td>\n",
       "      <td>중구</td>\n",
       "    </tr>\n",
       "    <tr>\n",
       "      <th>1</th>\n",
       "      <td>시청</td>\n",
       "      <td>중구</td>\n",
       "    </tr>\n",
       "    <tr>\n",
       "      <th>2</th>\n",
       "      <td>종각</td>\n",
       "      <td>종로구</td>\n",
       "    </tr>\n",
       "    <tr>\n",
       "      <th>3</th>\n",
       "      <td>종로3가</td>\n",
       "      <td>종로구</td>\n",
       "    </tr>\n",
       "    <tr>\n",
       "      <th>4</th>\n",
       "      <td>종로5가</td>\n",
       "      <td>종로구</td>\n",
       "    </tr>\n",
       "  </tbody>\n",
       "</table>\n",
       "</div>"
      ],
      "text/plain": [
       "     역명   지역\n",
       "0   서울역   중구\n",
       "1    시청   중구\n",
       "2    종각  종로구\n",
       "3  종로3가  종로구\n",
       "4  종로5가  종로구"
      ]
     },
     "execution_count": 6,
     "metadata": {},
     "output_type": "execute_result"
    }
   ],
   "source": [
    "# 역별 소속구\n",
    "def getLoc(x):\n",
    "    temp = x.split()\n",
    "    return temp[1]\n",
    "\n",
    "df_station_loc = pd.read_csv('subway/역주소.csv',encoding='cp949')\n",
    "df_station_loc.drop(['연번','역전화번호','지번주소'],axis=1,inplace=True)\n",
    "df_station_loc['도로명주소'] = df_station_loc['도로명주소'].apply(getLoc)\n",
    "df_station_loc = df_station_loc.rename({'도로명주소':'지역'},axis=1)\n",
    "df_station_loc.replace({'역명':'서울'},'서울역',inplace=True)\n",
    "df_station_loc.replace({'역명':'교대(법원, 검찰청)'},'교대(법원.검찰청)',inplace=True)\n",
    "df_station_loc.replace({'역명':'남한산성입구(성남법원?검찰청)'},'남한산성입구(성남법원.검찰청)',inplace=True)\n",
    "df_station_loc.replace({'역명':'신촌(지하)'},'신촌',inplace=True)\n",
    "df_station_loc.replace({'역명':'하남시청(덕풍?신장)'},'하남시청(덕풍·신장)',inplace=True)\n",
    "df_station_loc.drop(['역번호','호선'],axis=1,inplace=True)\n",
    "df_station_loc.drop_duplicates(subset='역명',inplace=True)\n",
    "df_station_loc.head(5)"
   ]
  },
  {
   "cell_type": "code",
   "execution_count": 7,
   "metadata": {},
   "outputs": [
    {
     "data": {
      "text/html": [
       "<div>\n",
       "<style scoped>\n",
       "    .dataframe tbody tr th:only-of-type {\n",
       "        vertical-align: middle;\n",
       "    }\n",
       "\n",
       "    .dataframe tbody tr th {\n",
       "        vertical-align: top;\n",
       "    }\n",
       "\n",
       "    .dataframe thead th {\n",
       "        text-align: right;\n",
       "    }\n",
       "</style>\n",
       "<table border=\"1\" class=\"dataframe\">\n",
       "  <thead>\n",
       "    <tr style=\"text-align: right;\">\n",
       "      <th></th>\n",
       "      <th>지역</th>\n",
       "      <th>인구수</th>\n",
       "    </tr>\n",
       "  </thead>\n",
       "  <tbody>\n",
       "    <tr>\n",
       "      <th>0</th>\n",
       "      <td>전국</td>\n",
       "      <td>23914851</td>\n",
       "    </tr>\n",
       "    <tr>\n",
       "      <th>1</th>\n",
       "      <td>서울특별시</td>\n",
       "      <td>4469417</td>\n",
       "    </tr>\n",
       "    <tr>\n",
       "      <th>2</th>\n",
       "      <td>종로구</td>\n",
       "      <td>72067</td>\n",
       "    </tr>\n",
       "    <tr>\n",
       "      <th>3</th>\n",
       "      <td>중구</td>\n",
       "      <td>64714</td>\n",
       "    </tr>\n",
       "    <tr>\n",
       "      <th>4</th>\n",
       "      <td>용산구</td>\n",
       "      <td>107825</td>\n",
       "    </tr>\n",
       "  </tbody>\n",
       "</table>\n",
       "</div>"
      ],
      "text/plain": [
       "      지역       인구수\n",
       "0     전국  23914851\n",
       "1  서울특별시   4469417\n",
       "2    종로구     72067\n",
       "3     중구     64714\n",
       "4    용산구    107825"
      ]
     },
     "execution_count": 7,
     "metadata": {},
     "output_type": "execute_result"
    }
   ],
   "source": [
    "# 구별 인구수\n",
    "df_population = pd.read_csv('subway/행정구역_시군구_별_주민등록세대수.csv',encoding='utf-8')\n",
    "df_population.drop(['2023.11','2024.01','2024.02'],axis=1,inplace=True)\n",
    "df_population.drop(df_population.index[27:91],axis=0,inplace=True)\n",
    "df_population.rename(columns={'행정구역(시군구)별':'지역','2023.12':'인구수'},inplace=True)\n",
    "df_population.head(5)"
   ]
  },
  {
   "cell_type": "code",
   "execution_count": 8,
   "metadata": {},
   "outputs": [
    {
     "data": {
      "text/html": [
       "<div>\n",
       "<style scoped>\n",
       "    .dataframe tbody tr th:only-of-type {\n",
       "        vertical-align: middle;\n",
       "    }\n",
       "\n",
       "    .dataframe tbody tr th {\n",
       "        vertical-align: top;\n",
       "    }\n",
       "\n",
       "    .dataframe thead th {\n",
       "        text-align: right;\n",
       "    }\n",
       "</style>\n",
       "<table border=\"1\" class=\"dataframe\">\n",
       "  <thead>\n",
       "    <tr style=\"text-align: right;\">\n",
       "      <th></th>\n",
       "      <th>역명</th>\n",
       "      <th>인구수</th>\n",
       "    </tr>\n",
       "  </thead>\n",
       "  <tbody>\n",
       "    <tr>\n",
       "      <th>0</th>\n",
       "      <td>서울역</td>\n",
       "      <td>64714</td>\n",
       "    </tr>\n",
       "    <tr>\n",
       "      <th>1</th>\n",
       "      <td>시청</td>\n",
       "      <td>64714</td>\n",
       "    </tr>\n",
       "    <tr>\n",
       "      <th>2</th>\n",
       "      <td>종각</td>\n",
       "      <td>72067</td>\n",
       "    </tr>\n",
       "    <tr>\n",
       "      <th>3</th>\n",
       "      <td>종로3가</td>\n",
       "      <td>72067</td>\n",
       "    </tr>\n",
       "    <tr>\n",
       "      <th>4</th>\n",
       "      <td>종로5가</td>\n",
       "      <td>72067</td>\n",
       "    </tr>\n",
       "  </tbody>\n",
       "</table>\n",
       "</div>"
      ],
      "text/plain": [
       "     역명    인구수\n",
       "0   서울역  64714\n",
       "1    시청  64714\n",
       "2    종각  72067\n",
       "3  종로3가  72067\n",
       "4  종로5가  72067"
      ]
     },
     "execution_count": 8,
     "metadata": {},
     "output_type": "execute_result"
    }
   ],
   "source": [
    "df_station_population = pd.merge(df_station_loc,df_population, on='지역', how='left')\n",
    "df_station_population.drop(['지역'],axis=1,inplace=True)\n",
    "df_station_population.head(5)"
   ]
  },
  {
   "cell_type": "code",
   "execution_count": 9,
   "metadata": {},
   "outputs": [],
   "source": [
    "def subwayDf(year):\n",
    "    locate = 'subway/역별 일별 시간대별 승하차인원/역별 일별 시간대별 승하차인원_' + str(year) + '.csv'\n",
    "    df = pd.read_csv(locate,encoding='EUC-KR')\n",
    "    if year == 2021:\n",
    "        df = df.rename(columns={'구분':'승하차구분','날짜':'수송일자'})\n",
    "    df_out = df[df['승하차구분']=='하차']\n",
    "    if year == 2021:\n",
    "        df_out = df_out.drop(['연번','승하차구분','06시 이전','23시 이후','합 계'],axis=1)\n",
    "    else:\n",
    "        df_out = df_out.drop(['연번','승하차구분','06시이전','24시이후'],axis=1)\n",
    "    if year == 2022:\n",
    "        df_out.drop(df_out[df_out['역번호']==' '].index, inplace=True)\n",
    "        df_out['역번호'] = df_out['역번호'].apply(int)\n",
    "    # 날짜 -> 요일과 주말여부 칼럼 추가\n",
    "    isWeekend = []\n",
    "    whatWeek = []\n",
    "    for s in df_out['수송일자']:\n",
    "        weekend, day_week = checkWeekend(s)\n",
    "        isWeekend.append(weekend)\n",
    "        whatWeek.append(day_week)\n",
    "    df_out['주말'] = isWeekend # 토or일 : 1\n",
    "    df_out['요일'] = whatWeek\n",
    "    \n",
    "    # 해당 지하철역이 몇개의 환승노선으로 이루어져있는지 수\n",
    "    df_trans = pd.read_csv('subway/노선별지하철역정보.csv', encoding='cp949')\n",
    "    df_trans =  df_trans[['전철역명']]\n",
    "    df_trans = df_trans.rename(columns={'전철역명':'역명'})\n",
    "    df_trans_counts = df_trans['역명'].value_counts()\n",
    "    df_trans['통과호선수'] = df_trans['역명'].map(df_trans_counts)\n",
    "    df_trans.drop_duplicates(subset='역명',inplace=True)\n",
    "    df_out = df_out.merge(df_trans, on='역명', how='left').fillna({'통과호선수':1})\n",
    "    df_out['통과호선수'] = df_out['통과호선수'].apply(int)\n",
    "    \n",
    "    # 시간대 이름 설정\n",
    "    df_out = df_out.rename(columns={'수송일자':'일시'})\n",
    "    start_index = 4\n",
    "    end_index = 21\n",
    "    new_columns = [col if idx < start_index or idx > end_index else col[:2] for idx, col in enumerate(df_out.columns)]\n",
    "    df_out.columns = new_columns\n",
    "    \n",
    "    # 역이 소속된 구의 인구수 추가\n",
    "    #df_out = df_out.merge(df_station_population, on='역명', how='left')\n",
    "    \n",
    "    # 역별 시간대별 미세먼지 추가(PM-10)\n",
    "    df_dust = dustDf(year)\n",
    "    df_out = df_out.merge(df_station_loc, on='역명', how='left')\n",
    "    dust_arr = []\n",
    "    for i,date in enumerate(df_out['일시']):\n",
    "        try:\n",
    "            dust_arr.append(df_dust.loc[date][df_out['지역'].iloc[i]])\n",
    "        except:\n",
    "            dust_arr.append(df_dust.loc[date]['서울시 평균'])\n",
    "    df_out['미세먼지(pm10)'] = dust_arr\n",
    "    df_out.drop(['지역'], axis=1, inplace=True)\n",
    "    \n",
    "    # 시간대 한 컬럼으로 통합 및 하차인원 분리\n",
    "    df_out_melted = pd.melt(df_out,id_vars=['일시','호선','역번호','역명','주말','요일','통과호선수','미세먼지(pm10)'],var_name='시간',value_name='하차인원')\n",
    "    \n",
    "    # 시간대 코사인 함수 적용\n",
    "    #df_out_melted['시간'] = df_out_melted['시간'].apply(timeCos)\n",
    "    \n",
    "    # 호선 숫자로 변경\n",
    "    if year == 2023:\n",
    "        df_out_melted['호선'] = df_out_melted['호선'].apply(lambda x:int(x[0]))\n",
    "    return df_out_melted"
   ]
  },
  {
   "cell_type": "code",
   "execution_count": 10,
   "metadata": {},
   "outputs": [
    {
     "data": {
      "text/plain": [
       "\"\\ndef subwayBDhour(startIdx,endIdx,useMon,line): #useMon = YYYYMM, line = X호선\\n    key = apikey.SEOULDATA_SUBWAY_KEY\\n    url = 'http://openapi.seoul.go.kr:8088/' + key + '/xml/CardSubwayTime/' + str(startIdx) + '/' + str(endIdx)\\n    url += '/' + str(useMon) + '/' + line\\n    response = requests.get(url)\\n    return response\\n\""
      ]
     },
     "execution_count": 10,
     "metadata": {},
     "output_type": "execute_result"
    }
   ],
   "source": [
    "#서울교통공사 지하철혼잡도정보\n",
    "#https://www.data.go.kr/data/15071311/fileData.do\n",
    "#서울교통공사 1-8호선 30분 단위 평균 혼잡도로 30분간 지나는 열차들의\n",
    "#평균 혼잡도(정원대비 승차인원으로, 승차인과 좌석수가 일치할 경우를 혼잡도 34%로 산정) 입니다.(단위: %).\n",
    "#서울교통공사 혼잡도 데이터는 요일구분(평일, 토요일, 일요일), 호선, 역번호, 역명, 상하선구분, 30분단위 별 혼잡도 데이터로 구성되어 있습니다.\n",
    "#(1년 단위 업데이트 자료 입니다.)\n",
    "'''\n",
    "def subwayConfuse():\n",
    "    url2023 = 'https://api.odcloud.kr/api/15071311/v1/uddi:e477f1d9-2c3a-4dc8-b147-a55584583fa2'\n",
    "    key = apikey.PBDATA_DECODING_KEY\n",
    "    params = {'serviceKey':key,'page':1,'perPage':10}\n",
    "    response = requests.get(url2023,params=params)\n",
    "    return response\n",
    "'''\n",
    "\n",
    "#서울시 지하철 호선별 역별 시간대별 승하차 인원 정보\n",
    "#https://data.seoul.go.kr/dataList/OA-12252/S/1/datasetView.do\n",
    "'''\n",
    "def subwayBDhour(startIdx,endIdx,useMon,line): #useMon = YYYYMM, line = X호선\n",
    "    key = apikey.SEOULDATA_SUBWAY_KEY\n",
    "    url = 'http://openapi.seoul.go.kr:8088/' + key + '/xml/CardSubwayTime/' + str(startIdx) + '/' + str(endIdx)\n",
    "    url += '/' + str(useMon) + '/' + line\n",
    "    response = requests.get(url)\n",
    "    return response\n",
    "'''"
   ]
  },
  {
   "cell_type": "markdown",
   "metadata": {},
   "source": [
    "#### 2-1.날짜 데이터"
   ]
  },
  {
   "cell_type": "code",
   "execution_count": 11,
   "metadata": {},
   "outputs": [],
   "source": [
    "# 공휴일 확인\n",
    "# https://www.data.go.kr/tcs/dss/selectApiDataDetailView.do?publicDataPk=15012690\n",
    "def holidayCheck(year):\n",
    "    key = apikey.PBDATA_DECODING_KEY\n",
    "    url = 'http://apis.data.go.kr/B090041/openapi/service/SpcdeInfoService/getRestDeInfo'\n",
    "    params ={'serviceKey':key,'solYear':year,'numOfRows':100} #year:0000, month:00\n",
    "    response = requests.get(url, params=params)\n",
    "    resDict = xmltodict.parse(response.content)\n",
    "    temp_df = pd.DataFrame(resDict['response']['body']['items']['item'])\n",
    "    temp_df = temp_df.drop(['dateKind','isHoliday','seq'],axis=1)\n",
    "    return temp_df\n",
    "\n",
    "def changeDate(x):\n",
    "    s = x[:4] + '-' + x[4:6] + '-' + x[6:]\n",
    "    return s"
   ]
  },
  {
   "cell_type": "markdown",
   "metadata": {},
   "source": [
    "#### 2-2.날씨 데이터"
   ]
  },
  {
   "cell_type": "code",
   "execution_count": 19,
   "metadata": {},
   "outputs": [],
   "source": [
    "# 일별 기온 데이터\n",
    "def getTemperature(year):\n",
    "    if year == 2023:\n",
    "        t_df = pd.read_csv('subway/서울일별기온/서울일별기온_'+str(year)+'.csv',encoding='EUC-KR')\n",
    "    else:\n",
    "        t_df = pd.read_csv('subway/서울일별기온/서울일별기온_'+str(year)+'.csv',encoding='utf-8')\n",
    "        t_df.columns = ['날짜','지점','평균기온(℃)','최저기온(℃)','최고기온(℃)']\n",
    "    t_df = t_df.rename(columns={'날짜':'일시','최저기온(℃)':'최저기온','최고기온(℃)':'최고기온'})\n",
    "    t_df = t_df.drop(['지점','평균기온(℃)'],axis=1)\n",
    "    return t_df"
   ]
  },
  {
   "cell_type": "markdown",
   "metadata": {},
   "source": [
    "#### 3. 특별 행사 여부, 인구 통계 및 인프라(업무지구, 학교 등)"
   ]
  },
  {
   "cell_type": "code",
   "execution_count": 20,
   "metadata": {},
   "outputs": [],
   "source": [
    "def getLocations(address): # 주소 -> 위도, 경도 변환\n",
    "    geolocator = Nominatim(user_agent=\"location translator\")\n",
    "    location = geolocator.geocode(address)\n",
    "    if location:\n",
    "        latitude = location.latitude\n",
    "        longitude = location.longitude\n",
    "        return latitude, longitude\n",
    "    else:\n",
    "        return None"
   ]
  },
  {
   "cell_type": "code",
   "execution_count": 21,
   "metadata": {},
   "outputs": [],
   "source": [
    "# 서울 역별 주위 대학교 여부\n",
    "# https://namu.wiki/w/%EB%85%B8%EC%84%A0%EB%B3%84%20%EC%A3%BC%EC%9C%84%20%EB%8C%80%ED%95%99%EA%B5%90\n",
    "def universityStation():\n",
    "    university = pd.read_csv('subway/대학교위치.csv',encoding='utf-8')\n",
    "\n",
    "    def getStation(x):\n",
    "        return x.split()[-1][:-1]\n",
    "\n",
    "    university['역 이름'] = university['역 이름'].apply(getStation)\n",
    "    university.drop(['대학','호선'],axis=1,inplace=True)\n",
    "    vc = university.value_counts()\n",
    "    university = vc.reset_index()\n",
    "    university.columns = ['역명', '주변대학수']\n",
    "    return university"
   ]
  },
  {
   "cell_type": "code",
   "execution_count": 22,
   "metadata": {},
   "outputs": [],
   "source": [
    "# 서울 행사 정보\n",
    "# https://data.seoul.go.kr/dataList/OA-15486/S/1/datasetView.do\n",
    "def seoulFestival(startIdx,endIdx,year):\n",
    "    key = apikey.SEOULDATA_NOMAL_KEY\n",
    "    url = 'http://openapi.seoul.go.kr:8088/{}/xml/culturalEventInfo/{}/{}'.format(key,startIdx,endIdx)\n",
    "    response = requests.get(url)\n",
    "    return response"
   ]
  },
  {
   "cell_type": "code",
   "execution_count": 23,
   "metadata": {},
   "outputs": [],
   "source": [
    "key = apikey.SEOULDATA_NOMAL_KEY\n",
    "startIdx = 1\n",
    "endIdx = 5\n",
    "year = 2023\n",
    "url = 'http://openapi.seoul.go.kr:8088/{}/xml/culturalEventInfo/{}/{}'.format(key,startIdx,endIdx)\n",
    "res= requests.get(url)\n",
    "resDict = xmltodict.parse(res.content)"
   ]
  },
  {
   "cell_type": "markdown",
   "metadata": {},
   "source": [
    "#### 종합 함수"
   ]
  },
  {
   "cell_type": "code",
   "execution_count": 24,
   "metadata": {},
   "outputs": [],
   "source": [
    "def makeData(year):\n",
    "    df = subwayDf(year)\n",
    "    # 공휴일 데이터\n",
    "    holiday_df = holidayCheck(year)\n",
    "    holiday_df = holiday_df.rename(columns={'locdate':'일시'})\n",
    "    holiday_df['일시'] = holiday_df['일시'].apply(changeDate)\n",
    "    holiday_df['공휴일여부'] = 1\n",
    "    holiday_df = holiday_df.drop(['dateName'],axis=1)\n",
    "    df_merged = df.merge(holiday_df, on='일시', how='left').fillna({'공휴일여부':0})\n",
    "    df_merged['공휴일여부'] = df_merged['공휴일여부'].astype(int)\n",
    "    # 일별 강수량 데이터\n",
    "    weather_df = pd.read_csv('subway/서울일별강수량_2020_2023.csv',encoding='EUC-KR')\n",
    "    weather_df_drop = weather_df.drop(['지점번호','지점명','1시간최다강수량(mm)','1시간최다강수량시각','Unnamed: 6'],axis=1)\n",
    "    df_merged = df_merged.merge(weather_df_drop, on='일시', how='left').fillna({'강수량(mm)':0})\n",
    "    # 기온 데이터\n",
    "    df_merged = df_merged.merge(getTemperature(year), on='일시', how='left')\n",
    "    # 역별 대학교 수\n",
    "    df_merged = df_merged.merge(universityStation(), on='역명', how='left').fillna({'주변대학수':0})\n",
    "    df_merged['주변대학수'] = df_merged['주변대학수'].astype(int)\n",
    "    return df_merged"
   ]
  },
  {
   "cell_type": "code",
   "execution_count": 26,
   "metadata": {},
   "outputs": [
    {
     "data": {
      "text/html": [
       "<div>\n",
       "<style scoped>\n",
       "    .dataframe tbody tr th:only-of-type {\n",
       "        vertical-align: middle;\n",
       "    }\n",
       "\n",
       "    .dataframe tbody tr th {\n",
       "        vertical-align: top;\n",
       "    }\n",
       "\n",
       "    .dataframe thead th {\n",
       "        text-align: right;\n",
       "    }\n",
       "</style>\n",
       "<table border=\"1\" class=\"dataframe\">\n",
       "  <thead>\n",
       "    <tr style=\"text-align: right;\">\n",
       "      <th></th>\n",
       "      <th>일시</th>\n",
       "      <th>호선</th>\n",
       "      <th>역번호</th>\n",
       "      <th>역명</th>\n",
       "      <th>주말</th>\n",
       "      <th>요일</th>\n",
       "      <th>통과호선수</th>\n",
       "      <th>미세먼지(pm10)</th>\n",
       "      <th>시간</th>\n",
       "      <th>하차인원</th>\n",
       "      <th>공휴일여부</th>\n",
       "      <th>강수량(mm)</th>\n",
       "      <th>최저기온</th>\n",
       "      <th>최고기온</th>\n",
       "      <th>주변대학수</th>\n",
       "    </tr>\n",
       "  </thead>\n",
       "  <tbody>\n",
       "    <tr>\n",
       "      <th>1737174</th>\n",
       "      <td>2021-12-31</td>\n",
       "      <td>8</td>\n",
       "      <td>2824</td>\n",
       "      <td>단대오거리</td>\n",
       "      <td>0</td>\n",
       "      <td>4</td>\n",
       "      <td>1</td>\n",
       "      <td>22.0</td>\n",
       "      <td>22</td>\n",
       "      <td>402</td>\n",
       "      <td>0</td>\n",
       "      <td>0.0</td>\n",
       "      <td>-8.8</td>\n",
       "      <td>-3.9</td>\n",
       "      <td>1</td>\n",
       "    </tr>\n",
       "    <tr>\n",
       "      <th>1737175</th>\n",
       "      <td>2021-12-31</td>\n",
       "      <td>8</td>\n",
       "      <td>2825</td>\n",
       "      <td>신흥</td>\n",
       "      <td>0</td>\n",
       "      <td>4</td>\n",
       "      <td>1</td>\n",
       "      <td>22.0</td>\n",
       "      <td>22</td>\n",
       "      <td>179</td>\n",
       "      <td>0</td>\n",
       "      <td>0.0</td>\n",
       "      <td>-8.8</td>\n",
       "      <td>-3.9</td>\n",
       "      <td>0</td>\n",
       "    </tr>\n",
       "    <tr>\n",
       "      <th>1737176</th>\n",
       "      <td>2021-12-31</td>\n",
       "      <td>8</td>\n",
       "      <td>2826</td>\n",
       "      <td>수진</td>\n",
       "      <td>0</td>\n",
       "      <td>4</td>\n",
       "      <td>1</td>\n",
       "      <td>22.0</td>\n",
       "      <td>22</td>\n",
       "      <td>204</td>\n",
       "      <td>0</td>\n",
       "      <td>0.0</td>\n",
       "      <td>-8.8</td>\n",
       "      <td>-3.9</td>\n",
       "      <td>0</td>\n",
       "    </tr>\n",
       "    <tr>\n",
       "      <th>1737177</th>\n",
       "      <td>2021-12-31</td>\n",
       "      <td>8</td>\n",
       "      <td>2827</td>\n",
       "      <td>모란</td>\n",
       "      <td>0</td>\n",
       "      <td>4</td>\n",
       "      <td>2</td>\n",
       "      <td>22.0</td>\n",
       "      <td>22</td>\n",
       "      <td>96</td>\n",
       "      <td>0</td>\n",
       "      <td>0.0</td>\n",
       "      <td>-8.8</td>\n",
       "      <td>-3.9</td>\n",
       "      <td>0</td>\n",
       "    </tr>\n",
       "    <tr>\n",
       "      <th>1737178</th>\n",
       "      <td>2021-12-31</td>\n",
       "      <td>8</td>\n",
       "      <td>2828</td>\n",
       "      <td>남위례</td>\n",
       "      <td>0</td>\n",
       "      <td>4</td>\n",
       "      <td>1</td>\n",
       "      <td>22.0</td>\n",
       "      <td>22</td>\n",
       "      <td>138</td>\n",
       "      <td>0</td>\n",
       "      <td>0.0</td>\n",
       "      <td>-8.8</td>\n",
       "      <td>-3.9</td>\n",
       "      <td>0</td>\n",
       "    </tr>\n",
       "  </tbody>\n",
       "</table>\n",
       "</div>"
      ],
      "text/plain": [
       "                 일시  호선   역번호     역명  주말  요일  통과호선수  미세먼지(pm10)  시간  하차인원  \\\n",
       "1737174  2021-12-31   8  2824  단대오거리   0   4      1        22.0  22   402   \n",
       "1737175  2021-12-31   8  2825     신흥   0   4      1        22.0  22   179   \n",
       "1737176  2021-12-31   8  2826     수진   0   4      1        22.0  22   204   \n",
       "1737177  2021-12-31   8  2827     모란   0   4      2        22.0  22    96   \n",
       "1737178  2021-12-31   8  2828    남위례   0   4      1        22.0  22   138   \n",
       "\n",
       "         공휴일여부  강수량(mm)  최저기온  최고기온  주변대학수  \n",
       "1737174      0      0.0  -8.8  -3.9      1  \n",
       "1737175      0      0.0  -8.8  -3.9      0  \n",
       "1737176      0      0.0  -8.8  -3.9      0  \n",
       "1737177      0      0.0  -8.8  -3.9      0  \n",
       "1737178      0      0.0  -8.8  -3.9      0  "
      ]
     },
     "execution_count": 26,
     "metadata": {},
     "output_type": "execute_result"
    }
   ],
   "source": [
    "df_2023 = makeData(2021)\n",
    "df_2023.tail(5)"
   ]
  },
  {
   "cell_type": "code",
   "execution_count": null,
   "metadata": {},
   "outputs": [],
   "source": [
    "#df_test.to_csv('learningdata/testdata_202301.csv',encoding='utf-8',index=False)\n",
    "#df_2023.to_csv('learningdata/testdata_2023.csv',encoding='utf-8',index=False)"
   ]
  },
  {
   "cell_type": "code",
   "execution_count": null,
   "metadata": {},
   "outputs": [],
   "source": []
  }
 ],
 "metadata": {
  "kernelspec": {
   "display_name": "bus",
   "language": "python",
   "name": "python3"
  },
  "language_info": {
   "codemirror_mode": {
    "name": "ipython",
    "version": 3
   },
   "file_extension": ".py",
   "mimetype": "text/x-python",
   "name": "python",
   "nbconvert_exporter": "python",
   "pygments_lexer": "ipython3",
   "version": "3.11.8"
  }
 },
 "nbformat": 4,
 "nbformat_minor": 2
}
